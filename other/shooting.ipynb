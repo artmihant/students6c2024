{
 "cells": [
  {
   "cell_type": "markdown",
   "metadata": {},
   "source": [
    "# Метод стрельбы"
   ]
  },
  {
   "cell_type": "markdown",
   "metadata": {},
   "source": [
    "Рассмотрим нелинейную краевую задачу:"
   ]
  },
  {
   "cell_type": "markdown",
   "metadata": {},
   "source": [
    "$ \\begin{equation}\n",
    "\\left\\{\n",
    "\\begin{split}\n",
    "y'' = F(x,y,y')| x \\in [x_L,x_R] \\\\\n",
    "l_1(y,y') = 0 | x = x_L \\\\ \n",
    "l_2(y,y') = 0 | x = x_R \\\\ \n",
    "\\end{split}\\right.\n",
    "\\end{equation} $"
   ]
  },
  {
   "cell_type": "markdown",
   "metadata": {},
   "source": [
    "Основная идея решения - свести нашу задачу к задаче Коши. Для этого необходимо определить значения $y_L = y(x_L), y_L' = y'(x_L)$ или $y_R = y(x_R), y_R'  = y'(x_R) $ . Не зная $y, y'$ , из имеющейся информации сделать это аналитически может быть затруднительно, поэтому введем на левом конце дополнительное граничное условие, зависящее от параметра $\\theta$:"
   ]
  },
  {
   "cell_type": "markdown",
   "metadata": {},
   "source": [
    "$ \\begin{equation}\n",
    "\\left\\{\n",
    "\\begin{split}\n",
    "y'' = F(x,y,y')| x \\in [x_L,x_R] \\\\\n",
    "l_1(y,y') = 0 | x = x_L \\\\ \n",
    "l_c(y,y',\\theta) = 0 | x = x_L \\\\ \n",
    "\\end{split}\\right.\n",
    "\\end{equation} $"
   ]
  },
  {
   "cell_type": "markdown",
   "metadata": {},
   "source": [
    "Выбор подходящей $l_c$ может варьироваться. В простейшем случае, $l_c(y,y',\\theta) = y-\\theta$ или $l_c(y,y',\\theta) = y'-\\theta$ , то есть $l_c = 0|x=x_L$ тождественно $y_L = \\theta$ или $y_L' = \\theta$ . В любом случае, задав $l_c$ и принимая во внимание $l_1$ мы должны получить простую возможность вычисления значений $y_L(\\theta)$ и $y_L'(\\theta)$, после чего задача сведется к задаче Коши."
   ]
  },
  {
   "cell_type": "markdown",
   "metadata": {},
   "source": [
    "Численно решив задачу Коши при конкретном $\\theta$ (например, методом Рунге-Кутты), мы получим зависящий от параметра ответ $y(\\theta)$, который, однако, не обязательно будет удолетворять условию на правой границе. Обозначим невязку $T(\\theta) = l_2(y(\\theta),y'(\\theta))$ Мы будем пытаться подобрать $\\theta$, при котором $T(\\theta)$ становится достаточно близко к нулю. Этот процесс метафорически схож с серией пристрелочных выстрелов по цели, благодаря чему метод и получил свое название."
   ]
  },
  {
   "cell_type": "markdown",
   "metadata": {},
   "source": [
    "## Пример\n",
    "\n",
    "Рассмотрим уравнение $y'' = \\frac{(y')^2}{y} - y'\\tan x $"
   ]
  },
  {
   "cell_type": "markdown",
   "metadata": {},
   "source": [
    "Можно убедиться, что его решения выглядят как $ y = \\alpha e^{\\beta\\sin x} $ . Притворимся, что мы этого не знаем, и попробуем решить краевую задачу на отрезке $[0,1]$ с $y(0) = 1$ , $y(\\frac{\\pi}{2}) = 2$\n",
    "\n",
    "Нам нужно задать для задачи Коши $y'(0) = \\theta$ "
   ]
  },
  {
   "cell_type": "markdown",
   "metadata": {},
   "source": [
    "Начнем решение"
   ]
  },
  {
   "cell_type": "code",
   "execution_count": 5,
   "metadata": {},
   "outputs": [],
   "source": [
    "import numpy as np"
   ]
  },
  {
   "cell_type": "markdown",
   "metadata": {},
   "source": [
    "Нам удобно рассматривать эволюцию вектора состояния системы $ \\vec{s} = (x,y,y') $ как:\n",
    "\n",
    "\n",
    "$ \\vec{s}' = D\\vec{s} \n",
    "\\Leftrightarrow  \\begin{pmatrix} x \\\\ y \\\\ y' \\end{pmatrix}' = \\begin{pmatrix} 1 \\\\ y' \\\\ F(x,y,y') \\end{pmatrix}$"
   ]
  },
  {
   "cell_type": "code",
   "execution_count": 45,
   "metadata": {},
   "outputs": [],
   "source": [
    "def F(x,y,dy):\n",
    "    return dy**2/y - dy*np.tan(x)\n",
    "\n",
    "\n",
    "def D(s):\n",
    "    x, y, dy = s\n",
    "    return np.array((1, dy, F(x,y,dy)))\n",
    "\n",
    "\n",
    "X_start, X_final = 0, np.pi/2\n",
    "\n",
    "Y_start, Y_final = 1, 2\n"
   ]
  },
  {
   "cell_type": "markdown",
   "metadata": {},
   "source": [
    "Зададим численный метод (Рунге-Кутта 4 порядка) и шаг. Известно, что ошибка метода RK4 на отрезке составляет ~ O(h^4). \n",
    "\n",
    "Мы можем установить желаемое отклонение от верного ответа eps и вычислить из него число шагов. К примеру, мы хотим иметь 8 цифр точности:"
   ]
  },
  {
   "cell_type": "code",
   "execution_count": 60,
   "metadata": {},
   "outputs": [
    {
     "data": {
      "text/plain": [
       "(100, 0.015707963267948967)"
      ]
     },
     "execution_count": 60,
     "metadata": {},
     "output_type": "execute_result"
    }
   ],
   "source": [
    "eps = 10**(-8)\n",
    "\n",
    "StepsNumber = int((1/eps)**(1/4)) #\n",
    "\n",
    "DeltaX = (X_final-X_start)/StepsNumber\n",
    "\n",
    "StepsNumber, DeltaX\n"
   ]
  },
  {
   "cell_type": "markdown",
   "metadata": {},
   "source": [
    "Наша оценка дает, что установив 100 шагов, мы получим желаемое."
   ]
  },
  {
   "cell_type": "code",
   "execution_count": 61,
   "metadata": {},
   "outputs": [],
   "source": [
    "\n",
    "def RK4_step(s):\n",
    "    d1 = DeltaX*D(s)\n",
    "    d2 = DeltaX*D(s+d1/2)\n",
    "    d3 = DeltaX*D(s+d2/2)\n",
    "    d4 = DeltaX*D(s+d3)\n",
    "\n",
    "    return s + ( d1 + 2*d2 + 2*d3 + d4 )/6"
   ]
  },
  {
   "cell_type": "markdown",
   "metadata": {},
   "source": [
    "Определим функцию невязки T, вычисляющую отклонение от нашей цели"
   ]
  },
  {
   "cell_type": "code",
   "execution_count": 62,
   "metadata": {},
   "outputs": [],
   "source": [
    "def T(theta):\n",
    "\n",
    "    dY_start = theta\n",
    "\n",
    "    state = np.array((X_start, Y_start, dY_start))\n",
    " \n",
    "    for _ in range(StepsNumber):\n",
    "        state = RK4_step(state)\n",
    "\n",
    "    Y_final_calc = state[1]\n",
    "\n",
    "    return Y_final_calc - Y_final"
   ]
  },
  {
   "cell_type": "markdown",
   "metadata": {},
   "source": [
    "Будем пытаться попасть в цель | подобрать $\\theta$  методом секущих с выбором точки (regula falsi):\n",
    "\n",
    "Дадим два наметочных выстрела произвольным образом (к примеру, возьмем $\\theta_1,\\theta_2 = 0,1$). Вычислим $d_1, d_2 = T(\\theta_1), T(\\theta_2)$"
   ]
  },
  {
   "cell_type": "markdown",
   "metadata": {},
   "source": [
    "Нарисуем на плоскости $ (\\theta, d) $ две полученные точки и проведем прямую через них. Возьмем за $\\theta_3$ $\\theta$-координату точки пересечения этой прямой с абциссой. Построим $d_3 = T(\\theta_3)$ . Если точность невязки $d_3$ не устроила нас, повторим процедуру с новой парой точек: $\\theta_3$ и одной из точек $(\\theta_1, \\theta_2)$, выбранной так: \n",
    "\n",
    "* Если $d_1$ и $d_2$ одного знака, выбрать $\\theta$, который ближе к $\\theta_3$ . \n",
    "\n",
    "* Если $d_1$ и $d_2$ разных знаков, выбрать $\\theta$, невязка которого имеет знак, противоположный $d_3$\n",
    "\n",
    "* Если $d_1 = d_2$, $\\theta_3$ вычислить невозможно. Кроме того, если $d_1*d_2 >> \\epsilon^2$ , но $|d_1 - d_2| < \\epsilon $ , т.е. невязки очень близки и при этом далеки от нуля, на следующем шаге мы можем уйти далеко в зону нефизичности задачи. В этом случае наш поиск корня окончился неудачей и мы перезапускаем алгоритм с другими двумя начальными точками.\n",
    "\n",
    "Метод гарантировано сойдется, если мы сразу или за несколько итераций смогли подобрать $d_1$ и $d_2$ разных знаков - в этом случае дальше мы будем быстро сужать интервал поиска. Так же метод гарантировано сойдется, если нам удалось угадать правильное направление до корня и функция $T''$ на интервале от корня до близжайшей к нему вычисленной нами точке имеет постоянный знак.\n",
    "\n",
    "\n"
   ]
  },
  {
   "cell_type": "code",
   "execution_count": 63,
   "metadata": {},
   "outputs": [
    {
     "name": "stdout",
     "output_type": "stream",
     "text": [
      "0.5819767000608468 -0.21042761058028514\n",
      "0.6766926990282881 -0.03263968517749083\n",
      "0.6907456300539359 -0.004797330967438507\n",
      "0.6927974047526977 -0.000699422017549578\n",
      "0.6930962501715657 -0.0001018509068881901\n",
      "0.6931397623298602 -1.4829127973792211e-05\n",
      "0.6931460974137827 -2.159013817948363e-06\n",
      "0.6931470197534266 -3.143356530621588e-07\n",
      "0.6931471540388606 -4.5764807499182325e-08\n",
      "0.6931471735897661 -6.662996598905124e-09\n"
     ]
    }
   ],
   "source": [
    "Theta_left, Theta_right = 0, 1\n",
    "Discr_left, Discr_right  = T(Theta_left), T(Theta_right)\n",
    "\n",
    "ThetaList = [Theta_left, Theta_right]\n",
    "\n",
    "while True:\n",
    "\n",
    "    if abs(Discr_left) < eps:\n",
    "        Theta = Theta_left\n",
    "        break\n",
    "\n",
    "    if abs(Discr_right) < eps:\n",
    "        Theta = Theta_right\n",
    "        break\n",
    "\n",
    "    if abs(Discr_right - Discr_left) < eps:\n",
    "        raise ValueError('Неудачный выбор начальных точек! Метод не сошелся.')\n",
    "\n",
    "    Theta = (Discr_right*Theta_left - Discr_left*Theta_right)/(Discr_right-Discr_left)\n",
    "    ThetaList.append(Theta)\n",
    "\n",
    "    Discr = T(Theta)\n",
    "\n",
    "    if Discr_right*Discr_left > 0:\n",
    "        if abs(Theta-Theta_left) > abs(Theta-Theta_right):\n",
    "            Theta_left, Discr_left = Theta, Discr\n",
    "        else:\n",
    "            Theta_right, Discr_right = Theta, Discr\n",
    "    else:\n",
    "        if Discr*Discr_left > 0:\n",
    "            Theta_left, Discr_left = Theta, Discr\n",
    "        else:\n",
    "            Theta_right, Discr_right = Theta, Discr\n",
    "\n",
    "    print(Theta, Discr)\n"
   ]
  },
  {
   "cell_type": "markdown",
   "metadata": {},
   "source": [
    "Метод сходится за 9 шагов. Сравним наше полученное решение с аналитическим.\n",
    "Истинное $\\theta = ln(2) = 0.693147181$ . Можно видеть, что то, что посчиталось у нас, отличается в 8 знаке от истинного значения параметра. Подставив истинное значение, мы получим:"
   ]
  },
  {
   "cell_type": "code",
   "execution_count": 69,
   "metadata": {},
   "outputs": [
    {
     "data": {
      "text/plain": [
       "(7.277361380175762e-09, 0.6931471805599453)"
      ]
     },
     "execution_count": 69,
     "metadata": {},
     "output_type": "execute_result"
    }
   ],
   "source": [
    "Theta_analitical = np.log(2)\n",
    "\n",
    "T(Theta_analitical), np.log(2)"
   ]
  },
  {
   "cell_type": "markdown",
   "metadata": {},
   "source": [
    "Нет особого смысла выставлять точность выше, чем установленная точность Рунге-Кутты для задачи Коши: в противном случае решение отклонится и будет \"целиться\" в точку численного решения краевой задачи, отличную от её истинного решения."
   ]
  },
  {
   "cell_type": "markdown",
   "metadata": {},
   "source": [
    "Напоследок нарисуем графики сходимости. Для этого придется пересчитать всё заново, дабы вычислить траектории (мы сохранили наши решения в ThetaList)"
   ]
  },
  {
   "cell_type": "code",
   "execution_count": 65,
   "metadata": {},
   "outputs": [],
   "source": [
    "@np.vectorize\n",
    "def Y_analitical(x):\n",
    "    return 2**np.sin(x)"
   ]
  },
  {
   "cell_type": "code",
   "execution_count": 66,
   "metadata": {},
   "outputs": [],
   "source": [
    "import matplotlib.pyplot as plt\n",
    "from matplotlib.cm import get_cmap"
   ]
  },
  {
   "cell_type": "markdown",
   "metadata": {},
   "source": [
    "Так как графики очень быстро сходятся, имеет смысл раскрасить в уникальные цвета только первые 5 шагов сходимости:"
   ]
  },
  {
   "cell_type": "code",
   "execution_count": 83,
   "metadata": {},
   "outputs": [
    {
     "data": {
      "image/png": "[encoded data removed]",
      "text/plain": [
       "<Figure size 640x480 with 1 Axes>"
      ]
     },
     "metadata": {},
     "output_type": "display_data"
    }
   ],
   "source": [
    "\n",
    "STrajectory = np.zeros((len(ThetaList), StepsNumber+1, 3))\n",
    "\n",
    "ColoresCount = 5\n",
    "\n",
    "fig, ax  = plt.subplots()\n",
    "ax.set(xlabel='X', ylabel='Y', title='θ=')\n",
    "\n",
    "CMap = get_cmap('winter')\n",
    "Colors = [CMap(i / ColoresCount) for i in range(ColoresCount+1)]  \n",
    "\n",
    "LinesLegend = []\n",
    "\n",
    "for index, Theta in enumerate(ThetaList):\n",
    "\n",
    "    dY_start = Theta\n",
    "\n",
    "    state = np.array((X_start, Y_start, dY_start))\n",
    "\n",
    "    STrajectory[index,0] = state\n",
    "\n",
    "    for step in range(StepsNumber):\n",
    "        STrajectory[index, step+1] = RK4_step(STrajectory[index, step])\n",
    "\n",
    "    color = Colors[index] if index < ColoresCount else Colors[ColoresCount]\n",
    "\n",
    "    line, = ax.plot(STrajectory[index, :, 0], STrajectory[index, :, 1], color=color, label=str(Theta))\n",
    "\n",
    "    if(index < ColoresCount):\n",
    "        LinesLegend.append(line)\n",
    "\n",
    "\n",
    "SATrajectory = np.zeros((StepsNumber+1, 3))\n",
    "dY_start = Theta_analitical\n",
    "state = np.array((X_start, Y_start, dY_start))\n",
    "\n",
    "SATrajectory[0] = state\n",
    "\n",
    "for step in range(StepsNumber):\n",
    "    SATrajectory[step+1] = RK4_step(SATrajectory[step])\n",
    "\n",
    "line_theta_analitical, = ax.plot(SATrajectory[:, 0], SATrajectory[:, 1], color=Colors[ColoresCount], label=Theta_analitical)\n",
    "\n",
    "line_analitical, = ax.plot(STrajectory[index, :, 0], Y_analitical(STrajectory[index, :, 0]), color='green', label='Analitical')\n",
    "\n",
    "ax.legend(handles=LinesLegend + [line_theta_analitical, line_analitical])\n",
    "\n",
    "plt.show()"
   ]
  }
 ],
 "metadata": {
  "kernelspec": {
   "display_name": "Python 3",
   "language": "python",
   "name": "python3"
  },
  "language_info": {
   "codemirror_mode": {
    "name": "ipython",
    "version": 3
   },
   "file_extension": ".py",
   "mimetype": "text/x-python",
   "name": "python",
   "nbconvert_exporter": "python",
   "pygments_lexer": "ipython3",
   "version": "3.10.12"
  }
 },
 "nbformat": 4,
 "nbformat_minor": 2
}
