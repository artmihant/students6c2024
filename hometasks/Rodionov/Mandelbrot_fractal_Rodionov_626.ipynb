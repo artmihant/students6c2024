{
 "cells": [
  {
   "cell_type": "code",
   "execution_count": 1,
   "metadata": {},
   "outputs": [],
   "source": [
    "#Импортируем нужные библиотеки \n",
    "\n",
    "import os\n",
    "import sys\n",
    "import random\n",
    "import warnings\n",
    "import tqdm\n",
    "\n",
    "\n",
    "import numpy as np\n",
    "import scipy\n",
    "\n",
    "import matplotlib.pyplot as plt\n",
    "from matplotlib.animation import FuncAnimation, PillowWriter\n",
    "from matplotlib.cm import get_cmap\n",
    "\n",
    "import mplcyberpunk\n",
    "plt.style.use('cyberpunk')\n",
    "\n",
    "warnings.filterwarnings('ignore')\n"
   ]
  },
  {
   "cell_type": "code",
   "execution_count": 2,
   "metadata": {},
   "outputs": [],
   "source": [
    "class Mandelbrot_Frac(object):\n",
    "\n",
    "    def __init__(self,\n",
    "                 max_iter : int = 500,\n",
    "                 x_min : float = -2.0,\n",
    "                 x_max : float = 1.0,\n",
    "                 y_min : float = -1.5,\n",
    "                 y_max : float = 1.5):\n",
    "\n",
    "        r\"\"\"\n",
    "        Класс для отрисовки фрактала Мондельброта\n",
    "        \"\"\"\n",
    "\n",
    "        self.max_iter = max_iter\n",
    "        self.x_min = x_min\n",
    "        self.x_max = x_max\n",
    "        self.y_min = y_min\n",
    "        self.y_max = y_max\n",
    "\n",
    "\n",
    "\n",
    "    def draw_fractal(self,\n",
    "                     Nx : int,\n",
    "                     Ny : int,\n",
    "                     z_0 : float,\n",
    "                     verbose : bool = None):\n",
    "        \"\"\"\n",
    "        Функция для отрисовки фрактала\n",
    "        \"\"\"\n",
    "        \n",
    "    \n",
    "        x = np.linspace(self.x_min, self.x_max, Nx)\n",
    "        y = np.linspace(self.y_min, self.y_max, Ny)\n",
    "        X, Y = np.meshgrid(x, y)\n",
    "        C = X + 1j * Y \n",
    "        \n",
    "        \n",
    "        mandelbrot_image = np.zeros((Ny, Nx))\n",
    "    \n",
    "        Z = np.ones(C.shape, dtype = complex)*z_0\n",
    "        \n",
    "        for i in range(self.max_iter):\n",
    "            mask = np.abs(Z) <= 2\n",
    "            Z[mask] = Z[mask]**2 + C[mask]\n",
    "            mandelbrot_image += mask\n",
    "\n",
    "            if verbose:\n",
    "                plt.imshow(standart_mndbrt, extent=(x_min, x_max, y_min, y_max), cmap='seismic')\n",
    "                plt.title(\"Standard Mandelbrot Fractal\", fontsize = 10)\n",
    "                plt.xlabel(\"Re\")\n",
    "                plt.ylabel(\"Im\")\n",
    "                plt.show()\n",
    "    \n",
    "        return mandelbrot_image\n",
    "\n",
    "    def download_frac_gif(self, \n",
    "                          array_list : np.array):\n",
    "\n",
    "        r\"\"\"\n",
    "        Функция для выгрузки конечного gif-файла. Варьируя значения z, получим нужный анимационный ряд\n",
    "        \"\"\"\n",
    "        \n",
    "        output_file='fractal_animation_results_Rodionov626.gif'\n",
    "        interval=200\n",
    "        cmap_ = 'jet'\n",
    "        \n",
    "        \n",
    "    \n",
    "        fig, ax = plt.subplots()\n",
    "    \n",
    "        im = ax.imshow(array_list[0], animated=True, cmap=cmap_)\n",
    "        cbar = fig.colorbar(im, ax=ax)\n",
    "    \n",
    "        def update(frame):\n",
    "            im.set_array(frame)\n",
    "            im.set_clim(vmin=np.quantile(frame, 0.01), vmax=np.quantile(frame, 0.99))\n",
    "            cbar.update_normal(im)\n",
    "            return [im]\n",
    "\n",
    "        # Create the animation\n",
    "        ani = FuncAnimation(\n",
    "            fig, update, frames=array_list, interval=interval, blit=False\n",
    "        )\n",
    "    \n",
    "        ani.save(output_file, writer='pillow')\n",
    "    \n",
    "        plt.close(fig)\n",
    "\n",
    "    def load_results(self):\n",
    "        Zs = np.linspace(0.0, 10e-1, 60)\n",
    "        output_image = [self.draw_fractal(400, 400, Zs[i]) for i in tqdm.tqdm(range(len(Zs)))]\n",
    "\n",
    "        self.download_frac_gif(output_image)"
   ]
  },
  {
   "cell_type": "code",
   "execution_count": 3,
   "metadata": {},
   "outputs": [],
   "source": [
    "Mandelbrot_Frac_inctance = Mandelbrot_Frac()"
   ]
  },
  {
   "cell_type": "code",
   "execution_count": 4,
   "metadata": {},
   "outputs": [
    {
     "name": "stderr",
     "output_type": "stream",
     "text": [
      "100%|███████████████████████████████████████████| 60/60 [00:24<00:00,  2.41it/s]\n"
     ]
    }
   ],
   "source": [
    "Mandelbrot_Frac_inctance.load_results()"
   ]
  },
  {
   "cell_type": "code",
   "execution_count": null,
   "metadata": {},
   "outputs": [],
   "source": []
  }
 ],
 "metadata": {
  "kernelspec": {
   "display_name": "Python 3 (ipykernel)",
   "language": "python",
   "name": "python3"
  },
  "language_info": {
   "codemirror_mode": {
    "name": "ipython",
    "version": 3
   },
   "file_extension": ".py",
   "mimetype": "text/x-python",
   "name": "python",
   "nbconvert_exporter": "python",
   "pygments_lexer": "ipython3",
   "version": "3.12.3"
  }
 },
 "nbformat": 4,
 "nbformat_minor": 4
}
