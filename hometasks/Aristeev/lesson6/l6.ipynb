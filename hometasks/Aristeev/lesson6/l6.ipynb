{
 "cells": [
  {
   "cell_type": "code",
   "execution_count": 1,
   "id": "8f45b80d-9c4e-4f8b-afdf-96828a74246c",
   "metadata": {},
   "outputs": [],
   "source": [
    "import time\n",
    "import matplotlib.pyplot as plt, matplotlib.animation\n",
    "import numpy as np"
   ]
  },
  {
   "cell_type": "code",
   "execution_count": 2,
   "id": "84b072b2-e76f-4073-ac65-d97a9ee679d7",
   "metadata": {},
   "outputs": [],
   "source": [
    "#PHYSICS\n",
    "Viscosity = 0.01           # вязкость жидкости\n",
    "Height, Width = 80, 200    # размеры решетки\n",
    "\n",
    "U0 = np.array([0.10, 0])    # начальная скорость\n",
    "\n",
    "Ux  = np.zeros((Height, Width)) + U0[0]\n",
    "Uy  = np.zeros((Height, Width)) + U0[1]\n",
    "Rho = np.ones((Height, Width))\n",
    "\n",
    "Ux0  = Ux.copy()\n",
    "Uy0  = Uy.copy()\n",
    "Rho0 = Rho.copy()"
   ]
  },
  {
   "cell_type": "code",
   "execution_count": 3,
   "id": "bca8d2b6-9d82-4713-8f6a-fe65b01eb588",
   "metadata": {},
   "outputs": [],
   "source": [
    "def BarrierShape(x0, y0, r):\n",
    "    \"\"\" Инициализируем форму барьера. Необходимо установить True там, где барьер \"\"\"\n",
    "    barrier = np.zeros((Height, Width), bool)\n",
    "\n",
    "    # круг\n",
    "    for y in range(barrier.shape[0]):\n",
    "        for x in range(barrier.shape[1]):\n",
    "            if (x - x0)**2 + (y - y0)**2 < r**2:\n",
    "                barrier[y,x] = True\n",
    "    return barrier"
   ]
  },
  {
   "cell_type": "code",
   "execution_count": 4,
   "id": "1507e8ce-c96c-450e-9205-f7951c518e67",
   "metadata": {},
   "outputs": [],
   "source": [
    "shift_x = 1\n",
    "shift_y = 1"
   ]
  },
  {
   "cell_type": "code",
   "execution_count": 5,
   "id": "a9a62ab1-b45f-41f6-881f-f7a62f3bd2e3",
   "metadata": {},
   "outputs": [],
   "source": [
    "def next_b(x, y, r):\n",
    "    global shift_x, shift_y\n",
    "\n",
    "    if (x - r + shift_x < 0 or x + r + shift_x > Width):\n",
    "        shift_x = -1 * shift_x\n",
    "    if (y - r + shift_y < 0 or y + r + shift_y > Height):\n",
    "        shift_y = -1 * shift_y\n",
    "        \n",
    "    x = x + shift_x\n",
    "    y = y + shift_y\n",
    "\n",
    "    return x, y"
   ]
  },
  {
   "cell_type": "code",
   "execution_count": 6,
   "id": "2957937b-623e-43b8-9424-fafdfff2d931",
   "metadata": {},
   "outputs": [],
   "source": [
    "## D2Q9\n",
    "D = 2\n",
    "Q = 9\n",
    "\n",
    "V = np.array([\n",
    "    [-1, 1],[ 0, 1],[ 1, 1],\n",
    "    [-1, 0],[ 0, 0],[ 1, 0],\n",
    "    [-1,-1],[ 0,-1],[ 1,-1]\n",
    "])\n",
    "\n",
    "W = np.array([\n",
    "    1/36, 1/9, 1/36,\n",
    "    1/9,  4/9, 1/9,\n",
    "    1/36, 1/9, 1/36\n",
    "])\n",
    "\n",
    "C = 1/3**0.5"
   ]
  },
  {
   "cell_type": "code",
   "execution_count": 7,
   "id": "09402dd7-1b1b-4b1f-a633-f655744086d7",
   "metadata": {},
   "outputs": [],
   "source": [
    "def setBarrier(x, y ,r):\n",
    "    barrierC = BarrierShape(x, y, r)\n",
    "\n",
    "    barrierN = np.roll(barrierC,  1, axis=0)\n",
    "    barrierS = np.roll(barrierC, -1, axis=0)\n",
    "    barrierE = np.roll(barrierC,  1, axis=1)\n",
    "    barrierW = np.roll(barrierC, -1, axis=1)\n",
    "    barrierNE = np.roll(barrierN,  1, axis=1)\n",
    "    barrierNW = np.roll(barrierN, -1, axis=1)\n",
    "    barrierSE = np.roll(barrierS,  1, axis=1)\n",
    "    barrierSW = np.roll(barrierS, -1, axis=1)\n",
    "\n",
    "    return np.array([barrierNW, barrierN, barrierNE,\n",
    "                     barrierW,  barrierC, barrierE,\n",
    "                     barrierSW, barrierS, barrierSE])\n"
   ]
  },
  {
   "cell_type": "code",
   "execution_count": 8,
   "id": "11454916-0c1d-4ebf-bccd-2f7c2e77a24c",
   "metadata": {},
   "outputs": [],
   "source": [
    "def F_stat(Ux, Uy, Rho):\n",
    "    UV = np.zeros((Q, Height, Width))\n",
    "    for q in range(Q):\n",
    "        UV[q] = (V[q,0]*Ux + V[q,1]*Uy)/C**2\n",
    "\n",
    "    U2 = (Ux**2 + Uy**2)/C**2\n",
    "\n",
    "    f_stat = np.zeros((Q, Height, Width))\n",
    "    for q in range(Q):\n",
    "        f_stat[q] = Rho * W[q] * (1 + UV[q] + 0.5*(UV[q]**2) - 0.5*U2)\n",
    "    return f_stat\n",
    "\n",
    "def Mode0(f):\n",
    "    mode = np.zeros((Height, Width))\n",
    "    for q in range(Q):\n",
    "        mode += f[q]\n",
    "    return mode\n",
    "\n",
    "def Mode1(f):\n",
    "    mode = np.zeros((D, Height, Width))\n",
    "    for q in range(Q):\n",
    "        for d1 in range(D):\n",
    "            mode[d1] += f[q]*V[q,d1]\n",
    "    return mode"
   ]
  },
  {
   "cell_type": "code",
   "execution_count": 9,
   "id": "fdeaabe9-0e6c-404d-be57-de9a57c3ea36",
   "metadata": {},
   "outputs": [],
   "source": [
    "def curl(ux, uy):\n",
    "    return np.roll(uy,-1,axis=1) - np.roll(uy,1,axis=1) - np.roll(ux,-1,axis=0) + np.roll(ux,1,axis=0)"
   ]
  },
  {
   "cell_type": "code",
   "execution_count": 10,
   "id": "e078d850-c92a-4946-adf0-8d7cba37c202",
   "metadata": {},
   "outputs": [],
   "source": [
    "def iter(f, f_out, barrier):\n",
    "    #now = time.time()\n",
    "   \n",
    "   \n",
    "    (fNW, fN, fNE, fW, fC, fE, fSW, fS, fSE) = f\n",
    "\n",
    "    # Stream step\n",
    "    for y in range(Height-1,0,-1):\n",
    "        fN[y]  = fN[y-1]\n",
    "        fNE[y] = fNE[y-1]\n",
    "        fNW[y] = fNW[y-1]\n",
    "\n",
    "    fS[:-1]  = fS[1:]\n",
    "    fSE[:-1] = fSE[1:]\n",
    "    fSW[:-1] = fSW[1:]\n",
    "\n",
    "    fE[:,1:]  = fE[:,:-1]\n",
    "    fNE[:,1:] = fNE[:,:-1]\n",
    "    fSE[:,1:] = fSE[:,:-1]\n",
    "\n",
    "    fW[:,:-1]  = fW[:,1:]\n",
    "    fNW[:,:-1] = fNW[:,1:]\n",
    "    fSW[:,:-1] = fSW[:,1:]\n",
    "\n",
    "    # BC_barrier\n",
    "    (bNW, bN, bNE, bW, bC, bE, bSW, bS, bSE) = barrier\n",
    "    fN[bN]   = fS[bC]\n",
    "    fS[bS]   = fN[bC]\n",
    "    fE[bE]   = fW[bC]\n",
    "    fW[bW]   = fE[bC]\n",
    "    fNE[bNE] = fSW[bC]\n",
    "    fNW[bNW] = fSE[bC]\n",
    "    fSE[bSE] = fNW[bC]\n",
    "    fSW[bSW] = fNE[bC]\n",
    "\n",
    "    # Compute macroscopic variables\n",
    "    Rho = Mode0(f)\n",
    "    UxUy = Mode1(f)\n",
    "    Ux = UxUy[0]/Rho\n",
    "    Uy = UxUy[1]/Rho\n",
    "\n",
    "    # Collision step with updated equilibrium\n",
    "    f_eq = F_stat(Ux, Uy, Rho)\n",
    "    tau = 0.5 + Viscosity/C**2\n",
    "    f += (f_eq - f)/tau\n",
    "\n",
    "    # BC_out (if needed)\n",
    "    f[:,0,:] = f_out[:,0,:]\n",
    "    f[:,-1,:] = f_out[:,-1,:]\n",
    "    f[:,:,0] = f_out[:,:,0]\n",
    "    f[:,:,-1] = f_out[:,:,-1]\n",
    "\n",
    "    #print(time.time()-now)"
   ]
  },
  {
   "cell_type": "code",
   "execution_count": 11,
   "id": "e3da75b6-ec70-40ad-9b47-7aa50272545f",
   "metadata": {},
   "outputs": [
    {
     "data": {
      "image/png": "[encoded data removed]",
      "text/plain": [
       "<Figure size 640x480 with 1 Axes>"
      ]
     },
     "metadata": {},
     "output_type": "display_data"
    }
   ],
   "source": [
    "#barrier = InitBarrier()\n",
    "F = F_stat(Ux, Uy, Rho)\n",
    "F_out = F_stat(Ux, Uy, Rho)\n",
    "\n",
    "center_x = Height//2\n",
    "center_y = Height//2\n",
    "r = Height//10\n",
    "\n",
    "# Initial iterations\n",
    "center_x, center_y = next_b(center_x, center_y, r)\n",
    "barrier = setBarrier(center_x, center_y, r)\n",
    "\n",
    "for _ in range(40):\n",
    "    iter(F, F_out, barrier)\n",
    "\n",
    "fig, ax = plt.subplots()\n",
    "fluidImage = ax.imshow(curl(Ux, Uy), origin='lower', \n",
    "                       norm=plt.Normalize(-.1,.1), \n",
    "                       cmap=plt.get_cmap('jet'),\n",
    "                       interpolation='none')\n",
    "\n",
    "\n",
    "bImageArray = np.zeros((Height, Width, 4), np.uint8)\n",
    "bImageArray[barrier[4],3] = 100\n",
    "barrierImage = plt.imshow(bImageArray, origin='lower', interpolation='none')\n",
    "\n",
    "def nextFrame(_):\n",
    "    global center_x,center_y\n",
    "    \n",
    "    center_x, center_y = next_b(center_x, center_y, r)\n",
    "    barrier = setBarrier(center_x, center_y, r)\n",
    "    for _ in range(40):    \n",
    "        iter(F, F_out, barrier)\n",
    "\n",
    "    \n",
    "    Rho = Mode0(F)\n",
    "    UxUy = Mode1(F)\n",
    "    Ux = UxUy[0]/Rho\n",
    "    Uy = UxUy[1]/Rho\n",
    "    tmp_bImageArray = np.zeros((Height, Width, 4), np.uint8)\n",
    "    tmp_bImageArray[barrier[4],3] = 100\n",
    "    fluidImage.set_array(curl(Ux, Uy))\n",
    "    barrierImage.set_array(tmp_bImageArray)\n",
    "    return (fluidImage, barrierImage)"
   ]
  },
  {
   "cell_type": "code",
   "execution_count": 12,
   "id": "f2fffbaf-79a5-4fde-9464-1ef275d4d74f",
   "metadata": {},
   "outputs": [],
   "source": [
    "animate = matplotlib.animation.FuncAnimation(fig, nextFrame, frames=500, interval=1, blit=True)"
   ]
  },
  {
   "cell_type": "code",
   "execution_count": 13,
   "id": "31155dd6-5482-42f2-afb7-5eca70eb970b",
   "metadata": {},
   "outputs": [],
   "source": [
    "animate.save(\"like_dvd.mp4\", fps = 15)\n",
    "plt.show()"
   ]
  }
 ],
 "metadata": {
  "kernelspec": {
   "display_name": "Python 3 (ipykernel)",
   "language": "python",
   "name": "python3"
  },
  "language_info": {
   "codemirror_mode": {
    "name": "ipython",
    "version": 3
   },
   "file_extension": ".py",
   "mimetype": "text/x-python",
   "name": "python",
   "nbconvert_exporter": "python",
   "pygments_lexer": "ipython3",
   "version": "3.12.0"
  }
 },
 "nbformat": 4,
 "nbformat_minor": 5
}
