{
 "cells": [
  {
   "cell_type": "markdown",
   "id": "6638887e-bbdc-4565-b142-f562ba500e4d",
   "metadata": {},
   "source": [
    "# Метод Ньютона\n",
    "## Дифференциальное уравнение\n",
    "Изгиб балки длиной $L$\n",
    "$$EI\\phi''(l) = - Q(l)cos(\\phi(l))$$\n",
    "$l$ - длина  \n",
    "$E$ - модуль Юнга  \n",
    "$I$ - статический момент сечения  \n",
    "$$ Q(l) = (L - l)q $$  \n",
    "$Q$ - распределеная сила  \n",
    "\n",
    "В задаче $E, I, q = const$"
   ]
  },
  {
   "cell_type": "markdown",
   "id": "fcee4c8a-21cb-461b-a43b-39329cca5663",
   "metadata": {},
   "source": [
    "## Граничные условия\n",
    "$$\\phi(0) = 0$$\n",
    "$$\\phi'(L) = 0$$"
   ]
  },
  {
   "cell_type": "markdown",
   "id": "fa100038-09dd-4974-b783-64233376b7f0",
   "metadata": {},
   "source": [
    "## Применение метода конечных разностей\n",
    "$$EI\\frac{\\phi_{i - 1} - 2\\phi_i + \\phi_{i + 1}}{h^2} = - Q(l_i)cos(\\phi_i)$$\n",
    "Перенесем на левую часть и поделим на $EI$\n",
    "$$\\frac{\\phi_{i - 1} - 2\\phi_i + \\phi_{i + 1}}{h^2} + \\frac{Q(l_i)}{EI} cos(\\phi_i) = 0$$  \n",
    "\n",
    "Определим невязку\n",
    "$$ R_i = \\frac{\\phi_{i - 1} - 2\\phi_i + \\phi_{i + 1}}{h^2} + \\frac{Q(l_i)}{EI} cos(\\phi_i) = 0$$\n",
    "\n",
    "**Найти решение задачи - минимизировать невязку в точках $R_i$**"
   ]
  },
  {
   "cell_type": "markdown",
   "id": "768fa759-24d9-4d4e-88f8-f39b7ce4814f",
   "metadata": {},
   "source": [
    "## Применение метода Ньютона\n",
    "$$\\vec{F}(\\vec{x}) = 0$$\n",
    "$$\\vec{x}_{i+1} = \\vec{x}_i - \\Big(\\frac{\\partial \\vec{F}}{\\partial \\vec{x}}(\\vec{x}_i)\\Big)^{-1} \\vec{F}(\\vec{x}_i) $$\n",
    "где $\\frac{\\partial \\vec{F}}{\\partial \\vec{x}}$ - матрица Якоби  \n",
    "Итерация метода состоит из решения системы уравнений\n",
    "$$\\Big( \\frac{\\partial \\vec{F}}{\\partial \\vec{x}}(\\vec{x}_i)\\Big) z = \\vec{F}(\\vec{x}_i)$$\n",
    "и обновления вектора решения\n",
    "$$\\vec{x}_{i+1} = \\vec{x}_i - z$$\n",
    "\n",
    "В применении к нашей системе\n",
    "$$R_i (\\phi_j) =0, \\quad i,j = 0,...,N$$\n",
    "\n",
    "$$\\frac{\\partial R_i}{\\partial \\phi_{i - 1}} = \\frac{1}{h^2}$$\n",
    "$$\\frac{\\partial R_i}{\\partial \\phi_i} = - \\frac{2}{h^2} - \\frac{Q(l_i)}{EI} sin(\\phi_i)$$\n",
    "$$\\frac{\\partial R_i}{\\partial \\phi_{i + 1}} = \\frac{1}{h^2}$$\n",
    "\n",
    "Остальные равны нулю"
   ]
  },
  {
   "cell_type": "markdown",
   "id": "2b436254-251d-49bd-852e-87b0091c30ab",
   "metadata": {},
   "source": [
    "### Учет граничных условий\n",
    "#### В точке закрепления\n",
    "$$\\phi_{0} = 0$$\n",
    "$$ R_0 = \\phi_0 - 0 = \\phi_0$$\n",
    "$$ \\frac{\\partial R_0}{\\partial \\phi_0} = 1$$\n",
    "#### В свободной точке\n",
    "$$\\frac{\\phi_{N} - \\phi_{N - 1}}{h} = 0$$\n",
    "$$R_N = \\frac{\\phi_{N} - \\phi_{N - 1}}{h}$$\n",
    "$$ \\frac{\\partial R_N}{\\partial \\phi_{N - 1}} = -\\frac{1}{h}$$\n",
    "$$ \\frac{\\partial R_N}{\\partial \\phi_N} = \\frac{1}{h}$$"
   ]
  },
  {
   "cell_type": "code",
   "execution_count": 1,
   "id": "0c5785c2-8985-4193-a2a6-e58e7e4b9190",
   "metadata": {},
   "outputs": [],
   "source": [
    "from matplotlib import pyplot as plt\n",
    "import numpy as np"
   ]
  },
  {
   "cell_type": "code",
   "execution_count": 2,
   "id": "ca3da1e5-6b8d-40c5-9403-7e7f32a14e07",
   "metadata": {},
   "outputs": [],
   "source": [
    "# PHYSICS\n",
    "EI = 0.05\n",
    "L_max = 1\n",
    "q = 1"
   ]
  },
  {
   "cell_type": "code",
   "execution_count": 3,
   "id": "4bb9cf5a-ebb5-4b9d-8ddc-4c7f0807490a",
   "metadata": {},
   "outputs": [],
   "source": [
    "# LOAD\n",
    "def Q(l):\n",
    "    return (L_max - l) * q"
   ]
  },
  {
   "cell_type": "code",
   "execution_count": 4,
   "id": "6c079a4b-71a4-4e7a-bc37-5ec1eb82f72f",
   "metadata": {},
   "outputs": [],
   "source": [
    "# NUMERICS\n",
    "N = 100\n",
    "l = np.linspace(0, L_max, N)\n",
    "h = L_max / (N - 1)\n"
   ]
  },
  {
   "cell_type": "code",
   "execution_count": 5,
   "id": "f72eaef8-da32-4d9e-9f9a-b58bc67b9c07",
   "metadata": {},
   "outputs": [],
   "source": [
    "# phi init\n",
    "Phi = np.zeros(N)\n",
    "Phi[0] = 0  # BC"
   ]
  },
  {
   "cell_type": "code",
   "execution_count": 6,
   "id": "a4f5c2ba-29bc-4f99-908c-1bff762ab68b",
   "metadata": {},
   "outputs": [],
   "source": [
    "# Newton settings\n",
    "max_iter = 10\n",
    "tol = 1e-6"
   ]
  },
  {
   "cell_type": "code",
   "execution_count": 7,
   "id": "b8159913-c464-47f2-ad38-2947fb7bc4be",
   "metadata": {},
   "outputs": [],
   "source": [
    "\"\"\"\n",
    "Вычисляет невязку R и Якобиан J для текущего приближения Phi\n",
    "\"\"\"\n",
    "def compute_R_and_J(Phi):   \n",
    "    R = np.zeros(N)\n",
    "    J = np.zeros((N, N))\n",
    "    for i in range(0, N):\n",
    "        # Закрепленный конец\n",
    "        if i == 0:\n",
    "            R[i] = Phi[0]\n",
    "            \n",
    "            J[i, i] = 1\n",
    "        # Свободный конец\n",
    "        elif i == N-1:\n",
    "            R[i] = (Phi[i] - Phi[i - 1]) / h\n",
    "            \n",
    "            J[i, i-1] = -1 / h\n",
    "            J[i, i] = 1 / h\n",
    "        # промежуточные точки\n",
    "        else:\n",
    "            R[i] = (Phi[i-1] - 2 * Phi[i] + Phi[i+1]) / h**2 + (Q(l[i]) / EI) * np.cos(Phi[i])\n",
    "            \n",
    "            J[i, i - 1] = 1 / h**2\n",
    "            J[i, i]     = -2 / h**2 - (Q(l[i]) / EI) * np.sin(Phi[i])\n",
    "            J[i, i + 1] = 1 / h**2\n",
    "    return R, J"
   ]
  },
  {
   "cell_type": "code",
   "execution_count": 8,
   "id": "618584b5-6c5e-4460-8e65-b5db14fd1e11",
   "metadata": {},
   "outputs": [
    {
     "name": "stdout",
     "output_type": "stream",
     "text": [
      "Итерация 0, невязка = 19.7979797979798\n",
      "Итерация 1, невязка = 22.74329988290002\n",
      "Итерация 2, невязка = 14.432149491020223\n",
      "Итерация 3, невязка = 70.95150844092386\n",
      "Итерация 4, невязка = 124.70378363241488\n",
      "Итерация 5, невязка = 8.109745399011116\n",
      "Итерация 6, невязка = 0.1769719520550055\n",
      "Итерация 7, невязка = 0.00012167489426673228\n",
      "Итерация 8, невязка = 6.634870430843876e-11\n",
      "Метод Ньютона сошелся\n"
     ]
    },
    {
     "data": {
      "image/png": "[encoded data removed]",
      "text/plain": [
       "<Figure size 640x480 with 1 Axes>"
      ]
     },
     "metadata": {},
     "output_type": "display_data"
    }
   ],
   "source": [
    "# Цикл\n",
    "for iteration in range(max_iter):\n",
    "    R, J = compute_R_and_J(Phi)\n",
    "    \n",
    "    R_norm = np.linalg.norm(R, np.inf)\n",
    "    print(f\"Итерация {iteration}, невязка = {R_norm}\")\n",
    "    if R_norm < tol:\n",
    "        print(\"Метод Ньютона сошелся\")\n",
    "        break\n",
    "    # Решаем систему линейных уравнений\n",
    "    delta = np.linalg.solve(J, R)\n",
    "    # Обновляем значения\n",
    "    Phi[:] -= delta\n",
    "    \n",
    "else:\n",
    "    print(\"Метод Ньютона не сошелся за заданное число итераций\")\n",
    "\n",
    "# Вычисляем координаты x и y\n",
    "\n",
    "x = np.zeros(N)\n",
    "y = np.zeros(N)\n",
    "for i in range(N - 1):\n",
    "    x[i+1] = x[i] + h * np.cos(Phi[i])\n",
    "    y[i+1] = y[i] - h * np.sin(Phi[i])\n",
    "\n",
    "# Визуализация\n",
    "\n",
    "fig, ax = plt.subplots()\n",
    "margin = 0.01\n",
    "ax.set_xlim(left=-L_max - margin, right=L_max + margin)\n",
    "ax.set_ylim(top= margin, bottom=-L_max - margin)\n",
    "ax.plot(x, y)\n",
    "plt.title(\"Форма деформированной балки, вычисленная методом Ньютона\")\n",
    "plt.xlabel(\"x\")\n",
    "plt.ylabel(\"y\")\n",
    "plt.grid(True)\n",
    "plt.show()\n"
   ]
  }
 ],
 "metadata": {
  "kernelspec": {
   "display_name": "Python 3 (ipykernel)",
   "language": "python",
   "name": "python3"
  },
  "language_info": {
   "codemirror_mode": {
    "name": "ipython",
    "version": 3
   },
   "file_extension": ".py",
   "mimetype": "text/x-python",
   "name": "python",
   "nbconvert_exporter": "python",
   "pygments_lexer": "ipython3",
   "version": "3.12.0"
  }
 },
 "nbformat": 4,
 "nbformat_minor": 5
}
