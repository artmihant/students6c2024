{
 "cells": [
  {
   "cell_type": "code",
   "execution_count": 1,
   "id": "85cb8080-7e0a-409c-b438-9abbbace409e",
   "metadata": {},
   "outputs": [],
   "source": [
    "import numpy as np\n",
    "import matplotlib.pyplot as plt\n",
    "import matplotlib.animation as animation\n",
    "\n",
    "# settings\n",
    "N = 5\n",
    "gamma = np.zeros(N)\n",
    "omega = np.random.uniform(low = 1.0, high = 4.0, size = N)\n",
    "L = np.random.uniform(low = 0.1, high = 1.0, size = N)"
   ]
  },
  {
   "cell_type": "code",
   "execution_count": 2,
   "id": "de01d164-0d29-417f-8806-7bfc18e7e35d",
   "metadata": {},
   "outputs": [],
   "source": [
    "def D(s, gamma, omega):\n",
    "    u = s[0]\n",
    "    v = s[1]\n",
    "    return np.array(( v, -2 * gamma * v - omega**2 * np.sin(u)))\n",
    "\n",
    "U_0 = np.ones(N)\n",
    "V_0 = np.zeros(N)"
   ]
  },
  {
   "cell_type": "code",
   "execution_count": 3,
   "id": "f1bbe1cc-3530-4a31-b561-52e543f8a8d4",
   "metadata": {},
   "outputs": [],
   "source": [
    "deltaT = 0.1\n",
    "\n",
    "T_min, T_max = 0, 20\n",
    "\n",
    "steps = int( (T_max-T_min) / deltaT )"
   ]
  },
  {
   "cell_type": "code",
   "execution_count": 4,
   "id": "fd958041-d5ab-4672-baaf-c137f61cb248",
   "metadata": {},
   "outputs": [],
   "source": [
    "STrajectory = np.zeros((N , 2))\n",
    "\n",
    "for i in range(N):\n",
    "    STrajectory[i][0] = U_0[i]\n",
    "    STrajectory[i][1] = V_0[i]"
   ]
  },
  {
   "cell_type": "code",
   "execution_count": 5,
   "id": "27ccbe63-7ff8-4b48-8a50-49542ca6d30e",
   "metadata": {},
   "outputs": [],
   "source": [
    "def RK4(s, gamma, omega):\n",
    "    d1 = deltaT * D(s,      gamma, omega)\n",
    "    d2 = deltaT * D(s+d1/2, gamma, omega)\n",
    "    d3 = deltaT * D(s+d2/2, gamma, omega)\n",
    "    d4 = deltaT * D(s+d3,   gamma, omega)\n",
    "    return s + d1/6 + d2/3 + d3/3 + d4/6"
   ]
  },
  {
   "cell_type": "code",
   "execution_count": null,
   "id": "b16ff842-0443-4637-a537-d35c925bd299",
   "metadata": {},
   "outputs": [],
   "source": [
    "fig, ax = plt.subplots()\n",
    "LineTrajectory = [0] * N\n",
    "\n",
    "for j in range(N):\n",
    "    point = (L[j] * np.sin(STrajectory[j,0]), -L[j] * np.cos(STrajectory[j,0]))\n",
    "    LineTrajectory[j] = ax.plot([0, point[0]], [0, point[1]], markevery=(1,1), marker='o')[0]\n",
    "\n",
    "ax.legend(['L = %.1f, w =%.1f' %(L[j], omega[j]) for j in range(N)])\n",
    "\n",
    "plt.xlim(-1.2,1.2)\n",
    "plt.ylim(-1.2,1.2)\n",
    "\n",
    "ax.set(xlabel='X', ylabel='Y', )\n",
    "\n",
    "def loop_animation(i):\n",
    "    for j in range(N):\n",
    "        LineTrajectory[j].set_data([0, L[j] * np.sin(STrajectory[j,0])], [0, -L[j] * np.cos(STrajectory[j,0])])\n",
    "\n",
    "    for j in range(N):\n",
    "        STrajectory[j] = RK4(STrajectory[j],gamma[j],omega[j])\n",
    "\n",
    "    return (LineTrajectory)\n",
    "\n",
    "ani = animation.FuncAnimation(\n",
    "    fig=fig, \n",
    "    func=loop_animation, \n",
    "    frames=steps, \n",
    "    interval=40,\n",
    "    repeat=True,\n",
    "    repeat_delay=0\n",
    ")\n",
    "ani.save(filename=\"5_pendulum.gif\", writer=\"ffmpeg\")"
   ]
  },
  {
   "cell_type": "code",
   "execution_count": null,
   "id": "378ba38d-8926-4dac-9b6a-babc49cf593f",
   "metadata": {},
   "outputs": [],
   "source": []
  },
  {
   "cell_type": "code",
   "execution_count": null,
   "id": "4ac9f821-7b38-4b27-8b9b-d5a0b7c9e4e8",
   "metadata": {},
   "outputs": [],
   "source": []
  }
 ],
 "metadata": {
  "kernelspec": {
   "display_name": "Python 3 (ipykernel)",
   "language": "python",
   "name": "python3"
  },
  "language_info": {
   "codemirror_mode": {
    "name": "ipython",
    "version": 3
   },
   "file_extension": ".py",
   "mimetype": "text/x-python",
   "name": "python",
   "nbconvert_exporter": "python",
   "pygments_lexer": "ipython3",
   "version": "3.12.0"
  }
 },
 "nbformat": 4,
 "nbformat_minor": 5
}
