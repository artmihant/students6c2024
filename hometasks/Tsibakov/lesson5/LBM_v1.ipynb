{
 "cells": [
  {
   "cell_type": "code",
   "execution_count": 1,
   "metadata": {},
   "outputs": [],
   "source": [
    "import numpy as np, tqdm, pickle \n",
    "from matplotlib import pyplot as plt\n",
    "from GIF_Saver import *\n",
    "\n",
    "plt.rcParams['figure.dpi'] = 100"
   ]
  },
  {
   "cell_type": "code",
   "execution_count": 2,
   "metadata": {},
   "outputs": [],
   "source": [
    "\"\"\"\n",
    " (0, 0)------->\n",
    "   |          y\n",
    "   |\n",
    "   |\n",
    "   V x\n",
    "\"\"\"\n",
    "pass"
   ]
  },
  {
   "cell_type": "code",
   "execution_count": 3,
   "metadata": {},
   "outputs": [],
   "source": [
    "def draw_bodies(body_map):\n",
    "    \"\"\"\n",
    "    Draws LBM Rigid body map using plt.imshow\n",
    "\n",
    "    parameters:\n",
    "        body_map (np.array)\n",
    "    \"\"\"\n",
    "    \n",
    "    plt.imshow(body_map, cmap = 'Greys', interpolation='none')\n",
    "    plt.xlabel('x cell', fontsize = 9)\n",
    "    plt.ylabel('y cell', fontsize = 9)\n",
    "    plt.show()"
   ]
  },
  {
   "cell_type": "code",
   "execution_count": 4,
   "metadata": {},
   "outputs": [],
   "source": [
    "def equi_state(ux, uy, rho, e, c, w):\n",
    "    \"\"\"\n",
    "    Computes F-function equilibrium state for current configuration\n",
    "\n",
    "    parameters:\n",
    "        ux (np.array)\n",
    "        uy (np.array)\n",
    "        rho (np.array) - density\n",
    "        e (np.array)   - lattice direction vectors\n",
    "    \n",
    "    returns:    \n",
    "        np.array 9*Nx*Ny\n",
    "    \"\"\"\n",
    "\n",
    "    Nx, Ny = ux.shape\n",
    "    u_proj = np.zeros((9, Nx, Ny))\n",
    "\n",
    "    for i in range(9):\n",
    "        u_proj[i] = (ux*e[i,0] + uy*e[i,1])/c**2 \n",
    "\n",
    "    f_equi = np.zeros_like(u_proj)\n",
    "    u_2    = (ux**2 + uy**2) / c**2\n",
    "\n",
    "    for i in range(9):\n",
    "        f_equi[i] = rho * w[i] * (1 + u_proj[i] + u_proj[i]**2/2 - u_2/2)\n",
    "    \n",
    "    return f_equi"
   ]
  },
  {
   "cell_type": "code",
   "execution_count": 5,
   "metadata": {},
   "outputs": [],
   "source": [
    "def iter_step(f, f_ini, bodies, ux, uy, rho, visc, e, c, w, opposites):\n",
    "    \"\"\"\n",
    "    Performs LBM simulation step \n",
    "\n",
    "    parameters:\n",
    "        f (np.array)      - dist function\n",
    "        f_ini (np.array)\n",
    "        bodies (np.array) - obstacles array\n",
    "        ux (np.array) \n",
    "        uy (np.array) \n",
    "        rho (np.array) \n",
    "        visc (float) - viscosity parameter\n",
    "        e (np.array) - lattice speed direction\n",
    "        c (float)    - lattice sound speed \n",
    "        w (np.array) - lattice weights\n",
    "        opposites (list) - opposite directions list\n",
    "\n",
    "    returns:\n",
    "        ux, uy, rho, f (np.array) \n",
    "    \"\"\"\n",
    "\n",
    "    Nx, Ny = rho.shape\n",
    "    \n",
    "    # Streaming\n",
    "    for i in range(9):\n",
    "        f[i] = np.roll(f[i], shift = e[i][::-1], axis = (0,1))\n",
    "    \n",
    "\n",
    "    # Obstacles BC\n",
    "    for i in range(9):\n",
    "        f[i, np.roll(bodies, shift = e[i], axis = (0,1))] = f[opposites[i], np.roll(bodies, shift = e[i], axis = (0,1))]\n",
    "\n",
    "    # New density and velocity\n",
    "    rho = np.sum(f, axis = 0)\n",
    "\n",
    "    ux = np.zeros_like(rho)\n",
    "    uy = np.zeros_like(rho)\n",
    "\n",
    "    for i in range(9):\n",
    "        ux += f[i] * e[i, 0]\n",
    "        uy += f[i] * e[i, 1]\n",
    "\n",
    "    ux /= rho \n",
    "    uy /= rho\n",
    "    \n",
    "    # Collision step \n",
    "    f = f + (equi_state(ux, uy, rho, e, c ,w) - f) / (1/2 + visc/c**2)\n",
    "\n",
    "    # Inlet & Outlet BC:\n",
    "    f[:, 0, :] = f_ini[:, 0, :]\n",
    "    f[:,-1, :] = f_ini[:,-1, :]\n",
    "    f[:, :, 0] = f_ini[:, :, 0]\n",
    "    f[:, :,-1] = f_ini[:, :,-1]\n",
    "\n",
    "    return ux, uy, rho, f"
   ]
  },
  {
   "cell_type": "code",
   "execution_count": 6,
   "metadata": {},
   "outputs": [],
   "source": [
    "def naca_4digit_airfoil_mask(Nx, Ny, m, p, t):\n",
    "    \"\"\"\n",
    "    https://en.wikipedia.org/wiki/NACA_airfoil\n",
    "    \n",
    "    Generates a 2D Nx by Ny array representing a NACA 4-digit airfoil shape.\n",
    "    \n",
    "    Parameters:\n",
    "        Nx (int): Grid size in the x-direction.\n",
    "        Ny (int): Grid size in the y-direction.\n",
    "        m (float): Maximum camber (e.g., 0.02 for 2%).\n",
    "        p (float): Location of maximum camber (e.g., 0.4 for 40%).\n",
    "        t (float): Maximum thickness (e.g., 0.12 for 12%).\n",
    "    \n",
    "    Returns:\n",
    "        np.array: 2D array where 1 represents the airfoil shape and 0 is void.\n",
    "    \"\"\"\n",
    "    # Define the grid\n",
    "    x = np.linspace(0, 1, Nx)  # Chordwise positions\n",
    "    y = np.linspace(-0.2, 0.2, Ny)  # Vertical positions (scaled for airfoil thickness)\n",
    "    X, Y = np.meshgrid(x, y)\n",
    "\n",
    "    # Thickness distribution\n",
    "    yt = 5 * t * (0.2969 * np.sqrt(x) - 0.1260 * x - 0.3516 * x**2 +\n",
    "                  0.2843 * x**3 - 0.1015 * x**4)\n",
    "\n",
    "    # Camber line\n",
    "    yc = np.where(x < p, \n",
    "                  m / p**2 * (2 * p * x - x**2),\n",
    "                  m / (1 - p)**2 * ((1 - 2 * p) + 2 * p * x - x**2))\n",
    "\n",
    "    # Upper and lower surfaces\n",
    "    yu = yc + yt\n",
    "    yl = yc - yt\n",
    "\n",
    "    # Create airfoil mask\n",
    "    airfoil_mask = np.zeros((Ny, Nx), dtype=int)\n",
    "    for i in range(Nx):\n",
    "        # Mark grid points between the upper and lower surfaces as 1\n",
    "        airfoil_mask[:, i] = (Y[:, i] <= yu[i]) & (Y[:, i] >= yl[i])\n",
    "\n",
    "    return airfoil_mask"
   ]
  },
  {
   "cell_type": "code",
   "execution_count": 7,
   "metadata": {},
   "outputs": [],
   "source": [
    "\"\"\" \n",
    "Lattice parameters\n",
    "\"\"\"\n",
    "\n",
    "c = 1/np.sqrt(3)\n",
    "\n",
    "w = np.array([\n",
    "    1/36, 1/9, 1/36,\n",
    "    1/9,  4/9, 1/9,\n",
    "    1/36, 1/9, 1/36\n",
    "])\n",
    "\n",
    "e = np.array([\n",
    "    [-1,-1],[-1, 0],[ -1,1],\n",
    "    [0, -1],[ 0, 0],[ 0, 1],\n",
    "    [ 1,-1],[ 1, 0],[ 1, 1]\n",
    "])\n",
    "\n",
    "opposites = list(range(9))[::-1]"
   ]
  },
  {
   "cell_type": "code",
   "execution_count": 8,
   "metadata": {},
   "outputs": [],
   "source": [
    "\"\"\" \n",
    "Simulation parameters\n",
    "\"\"\"\n",
    "\n",
    "visc = 1e-2\n",
    "Nx   = 100\n",
    "Ny   = 200\n",
    "\n",
    "n_iter = 6000\n",
    "\n",
    "i_save = 10"
   ]
  },
  {
   "cell_type": "code",
   "execution_count": 9,
   "metadata": {},
   "outputs": [
    {
     "data": {
      "image/png": "[encoded data removed]",
      "text/plain": [
       "<Figure size 640x480 with 1 Axes>"
      ]
     },
     "metadata": {},
     "output_type": "display_data"
    }
   ],
   "source": [
    "\"\"\"\n",
    "Bodies initialization\n",
    "\"\"\"\n",
    "\n",
    "body_map = np.zeros((Nx, Ny)).astype(np.bool)\n",
    "\n",
    "m, p, t = 0.06, 0.45, 0.16  # Maximum camber, position, and thickness\n",
    "wing_map = naca_4digit_airfoil_mask(Ny, Nx, -m, p, t).astype(np.bool)\n",
    "\n",
    "body_map = np.pad(wing_map, pad_width = [ (2*Nx//3, Nx//3), (Ny//4, Ny) ]).astype(np.bool)\n",
    "\n",
    "draw_bodies(body_map)"
   ]
  },
  {
   "cell_type": "code",
   "execution_count": 10,
   "metadata": {},
   "outputs": [],
   "source": [
    "\"\"\"\n",
    "Arrays initialization\n",
    "\"\"\"\n",
    "Nx, Ny = body_map.shape\n",
    "\n",
    "u0 = np.array([0.15, 0.00])\n",
    "\n",
    "ux = np.ones((Nx, Ny)) * u0[0]\n",
    "uy = np.ones((Nx, Ny)) * u0[1]\n",
    "\n",
    "rho = np.ones((Nx, Ny))\n",
    "\n",
    "f  = equi_state(ux, uy, rho, e, c, w)\n",
    "f_ini = f.copy()"
   ]
  },
  {
   "cell_type": "code",
   "execution_count": 11,
   "metadata": {},
   "outputs": [
    {
     "name": "stderr",
     "output_type": "stream",
     "text": [
      "100%|██████████| 6000/6000 [03:38<00:00, 27.51it/s]\n"
     ]
    }
   ],
   "source": [
    "\"\"\"\n",
    "LBM Simulation\n",
    "\"\"\"\n",
    "\n",
    "u_hist     = [ ]\n",
    "unorm_hist = [ ]\n",
    "curl_hist  = [ ]\n",
    "\n",
    "for i_step in tqdm.tqdm(range(n_iter)):\n",
    "    ux, uy, rho, f = iter_step(f, f_ini, body_map, ux, uy, rho, visc, e, c, w, opposites)\n",
    "\n",
    "    u_hist.append([ux, uy])\n",
    "    \n",
    "    if (i_step % i_save == 0):\n",
    "        unorm_hist.append(np.sqrt(ux**2 + uy**2))\n",
    "        curl = np.gradient(ux, 1, axis=0) - np.gradient(uy, 1, axis=1)\n",
    "        curl[body_map] = np.nan\n",
    "        curl_hist.append(curl.copy())"
   ]
  },
  {
   "cell_type": "code",
   "execution_count": 12,
   "metadata": {},
   "outputs": [
    {
     "data": {
      "image/png": "[encoded data removed]",
      "text/plain": [
       "<Figure size 640x480 with 2 Axes>"
      ]
     },
     "metadata": {},
     "output_type": "display_data"
    }
   ],
   "source": [
    "plt.imshow(curl_hist[-1], cmap = 'jet', vmin = -0.1, vmax = 0.1)\n",
    "plt.colorbar(orientation = 'horizontal', aspect = 40)\n",
    "plt.show()"
   ]
  },
  {
   "cell_type": "code",
   "execution_count": 13,
   "metadata": {},
   "outputs": [],
   "source": [
    "save_GIF(curl_hist[::4], interval=35, cmap_ = 'jet', output_file='animation_3.gif', vmin = -0.025, vmax = 0.025, orient='horizontal')"
   ]
  }
 ],
 "metadata": {
  "kernelspec": {
   "display_name": "Python 3",
   "language": "python",
   "name": "python3"
  },
  "language_info": {
   "codemirror_mode": {
    "name": "ipython",
    "version": 3
   },
   "file_extension": ".py",
   "mimetype": "text/x-python",
   "name": "python",
   "nbconvert_exporter": "python",
   "pygments_lexer": "ipython3",
   "version": "3.11.9"
  }
 },
 "nbformat": 4,
 "nbformat_minor": 2
}
