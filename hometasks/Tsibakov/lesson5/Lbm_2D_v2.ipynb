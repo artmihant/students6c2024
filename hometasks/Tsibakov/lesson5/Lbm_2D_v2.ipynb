{
 "cells": [
  {
   "cell_type": "code",
   "execution_count": 1,
   "metadata": {},
   "outputs": [],
   "source": [
    "import numpy as np, tqdm, pickle \n",
    "from matplotlib import pyplot as plt\n",
    "from GIF_Saver import *\n",
    "\n",
    "plt.rcParams['figure.dpi'] = 100"
   ]
  },
  {
   "cell_type": "code",
   "execution_count": 2,
   "metadata": {},
   "outputs": [],
   "source": [
    "\"\"\"\n",
    " (0, 0)------->\n",
    "   |          x\n",
    "   |\n",
    "   |\n",
    "   V y\n",
    "\"\"\"\n",
    "pass"
   ]
  },
  {
   "cell_type": "code",
   "execution_count": 3,
   "metadata": {},
   "outputs": [],
   "source": [
    "def draw_bodies(body_map):\n",
    "    \"\"\"\n",
    "    Draws LBM Rigid body map using plt.imshow\n",
    "\n",
    "    parameters:\n",
    "        body_map (np.array)\n",
    "    \"\"\"\n",
    "    \n",
    "    plt.imshow(body_map, cmap = 'Greys', interpolation='none')\n",
    "    plt.xlabel('x cell', fontsize = 9)\n",
    "    plt.ylabel('y cell', fontsize = 9)\n",
    "    plt.show()"
   ]
  },
  {
   "cell_type": "code",
   "execution_count": 4,
   "metadata": {},
   "outputs": [],
   "source": [
    "def equi_state(ux, uy, rho, e, c, w):\n",
    "    \"\"\"\n",
    "    Computes F-function equilibrium state for current configuration\n",
    "\n",
    "    parameters:\n",
    "        ux (np.array)\n",
    "        uy (np.array)\n",
    "        rho (np.array) - density\n",
    "        e (np.array)   - lattice direction vectors\n",
    "    \n",
    "    returns:    \n",
    "        np.array 9*Nx*Ny\n",
    "    \"\"\"\n",
    "\n",
    "    Nx, Ny = ux.shape\n",
    "    u_proj = np.zeros((9, Nx, Ny))\n",
    "\n",
    "    for i in range(9):\n",
    "        u_proj[i] = (ux*e[i,0] + uy*e[i,1])/c**2 \n",
    "\n",
    "    f_equi = np.zeros_like(u_proj)\n",
    "    u_2    = (ux**2 + uy**2) / c**2\n",
    "\n",
    "    for i in range(9):\n",
    "        f_equi[i] = rho * w[i] * (1 + u_proj[i] + u_proj[i]**2/2 - u_2/2)\n",
    "    \n",
    "    return f_equi"
   ]
  },
  {
   "cell_type": "code",
   "execution_count": null,
   "metadata": {},
   "outputs": [],
   "source": [
    "def iter_step(f, f_ini, bodies, ux, uy, rho, visc, e, c, w, opposites):\n",
    "    \"\"\"\n",
    "    Performs LBM simulation step \n",
    "\n",
    "    parameters:\n",
    "        f (np.array)      - dist function\n",
    "        f_ini (np.array)\n",
    "        bodies (np.array) - obstacles array\n",
    "        ux (np.array) \n",
    "        uy (np.array) \n",
    "        rho (np.array) \n",
    "        visc (float) - viscosity parameter\n",
    "        e (np.array) - lattice speed direction\n",
    "        c (float)    - lattice sound speed \n",
    "        w (np.array) - lattice weights\n",
    "        opposites (list) - opposite directions list\n",
    "\n",
    "    returns:\n",
    "        ux, uy, rho, f (np.array) \n",
    "    \"\"\"\n",
    "\n",
    "    Nx, Ny = rho.shape\n",
    "    \n",
    "    # Streaming\n",
    "    (fNW, fN, fNE, fW, fC, fE, fSW, fS, fSE) = f\n",
    "\n",
    "    for y in range(Nx-1,0,-1):\n",
    "        fN[y]  = fN[y-1]\n",
    "        fNE[y] = fNE[y-1]\n",
    "        fNW[y] = fNW[y-1]\n",
    "\n",
    "    for y in range(0,Nx-1):\n",
    "        fS[y]  = fS[y+1]\n",
    "        fSE[y] = fSE[y+1]\n",
    "        fSW[y] = fSW[y+1]\n",
    "\n",
    "    for x in range(Ny-1,0,-1):\n",
    "        fE[:,x]  = fE[:,x-1]\n",
    "        fNE[:,x] = fNE[:,x-1]\n",
    "        fSE[:,x] = fSE[:,x-1]\n",
    "\n",
    "    for x in range(0,Ny-1):\n",
    "        fW[:,x]  = fW[:,x+1]\n",
    "        fNW[:,x] = fNW[:,x+1]\n",
    "        fSW[:,x] = fSW[:,x+1]\n",
    "    \n",
    "\n",
    "    # Obstacles BC\n",
    "    for i in range(9):\n",
    "        f[i, np.roll(bodies, shift = e[i], axis = (0,1))] = f[opposites[i], np.roll(bodies, shift = e[i], axis = (0,1))]\n",
    "\n",
    "    # New density and velocity\n",
    "    rho = np.sum(f, axis = 0)\n",
    "\n",
    "    ux = np.zeros_like(rho)\n",
    "    uy = np.zeros_like(rho)\n",
    "\n",
    "    for i in range(9):\n",
    "        ux += f[i] * e[i, 0]\n",
    "        uy += f[i] * e[i, 1]\n",
    "\n",
    "    ux /= rho \n",
    "    uy /= rho\n",
    "    \n",
    "    # Collision step \n",
    "    f = f + (equi_state(ux, uy, rho, e, c ,w) - f) / (1/2 + visc/c**2)\n",
    "\n",
    "    # Inlet & Outlet BC:\n",
    "    f[:, 0, :] = f_ini[:, 0, :]\n",
    "    f[:,-1, :] = f_ini[:,-1, :]\n",
    "    f[:, :, 0] = f_ini[:, :, 0]\n",
    "    f[:, :,-1] = f_ini[:, :,-1]\n",
    "\n",
    "    return ux, uy, rho, f"
   ]
  },
  {
   "cell_type": "code",
   "execution_count": 6,
   "metadata": {},
   "outputs": [],
   "source": [
    "\"\"\" \n",
    "Lattice parameters\n",
    "\"\"\"\n",
    "\n",
    "c = 1/np.sqrt(3)\n",
    "\n",
    "w = np.array([\n",
    "    1/36, 1/9, 1/36,\n",
    "    1/9,  4/9, 1/9,\n",
    "    1/36, 1/9, 1/36\n",
    "])\n",
    "\n",
    "e = np.array([\n",
    "    [-1, 1],[ 0, 1],[ 1, 1],\n",
    "    [-1, 0],[ 0, 0],[ 1, 0],\n",
    "    [-1,-1],[ 0,-1],[ 1,-1]\n",
    "])\n",
    "\n",
    "opposites = list(range(9))[::-1]"
   ]
  },
  {
   "cell_type": "code",
   "execution_count": 7,
   "metadata": {},
   "outputs": [],
   "source": [
    "\"\"\" \n",
    "Simulation parameters\n",
    "\"\"\"\n",
    "\n",
    "visc = 1e-2\n",
    "Nx   = 200\n",
    "Ny   = 80\n",
    "\n",
    "n_iter = 3000 "
   ]
  },
  {
   "cell_type": "code",
   "execution_count": 8,
   "metadata": {},
   "outputs": [],
   "source": [
    "\"\"\"\n",
    "Arrays initialization\n",
    "\"\"\"\n",
    "\n",
    "u0 = np.array([0.00, 0.15])\n",
    "\n",
    "ux = np.ones((Nx, Ny)) * u0[0]\n",
    "uy = np.ones((Nx, Ny)) * u0[1]\n",
    "\n",
    "rho = np.ones((Nx, Ny))\n",
    "\n",
    "f  = equi_state(ux, uy, rho, e, c, w)\n",
    "f_ini = f.copy()"
   ]
  },
  {
   "cell_type": "code",
   "execution_count": 9,
   "metadata": {},
   "outputs": [
    {
     "data": {
      "image/png": "[encoded data removed]",
      "text/plain": [
       "<Figure size 640x480 with 1 Axes>"
      ]
     },
     "metadata": {},
     "output_type": "display_data"
    }
   ],
   "source": [
    "\"\"\"\n",
    "Bodies initialization\n",
    "\"\"\"\n",
    "\n",
    "body_map = np.zeros((Nx, Ny)).astype(np.bool)\n",
    "\n",
    "# Adding cylinder\n",
    "cx = Nx//4\n",
    "cy = Ny//2 \n",
    "r  = Ny//8\n",
    "X,Y = np.meshgrid(np.arange(Nx), np.arange(Ny), indexing='ij')\n",
    "R2  = (X - cx)**2 + (Y - cy)**2\n",
    "\n",
    "body_map[R2 <= r**2] = True\n",
    "\n",
    "draw_bodies(body_map.T)"
   ]
  },
  {
   "cell_type": "code",
   "execution_count": 10,
   "metadata": {},
   "outputs": [
    {
     "name": "stderr",
     "output_type": "stream",
     "text": [
      "100%|██████████| 3000/3000 [00:14<00:00, 210.42it/s]\n"
     ]
    }
   ],
   "source": [
    "\"\"\"\n",
    "LBM Simulation\n",
    "\"\"\"\n",
    "\n",
    "u_hist     = [ ]\n",
    "unorm_hist = [ ]\n",
    "curl_hist  = [ ]\n",
    "\n",
    "for i_step in tqdm.tqdm(range(n_iter)):\n",
    "    ux, uy, rho, f = iter_step(f, f_ini, body_map, ux, uy, rho, visc, e, c, w, opposites)\n",
    "\n",
    "    u_hist.append([ux, uy])\n",
    "    #unorm_hist.append(np.roll(uy,-1,axis=1) - np.roll(uy,1,axis=1) - np.roll(ux,-1,axis=0) + np.roll(ux,1,axis=0))\n",
    "    unorm_hist.append(np.sqrt(ux**2 + uy**2))\n",
    "    curl = np.gradient(ux, 1, axis=0) - np.gradient(uy, 1, axis=1)\n",
    "    curl[body_map] = np.nan\n",
    "    curl_hist.append(curl.copy())"
   ]
  },
  {
   "cell_type": "code",
   "execution_count": 11,
   "metadata": {},
   "outputs": [
    {
     "data": {
      "image/png": "[encoded data removed]",
      "text/plain": [
       "<Figure size 640x480 with 2 Axes>"
      ]
     },
     "metadata": {},
     "output_type": "display_data"
    }
   ],
   "source": [
    "plt.imshow(curl_hist[-1], cmap = 'jet', vmin = -0.1, vmax = 0.1)\n",
    "plt.colorbar()\n",
    "plt.show()"
   ]
  },
  {
   "cell_type": "code",
   "execution_count": 14,
   "metadata": {},
   "outputs": [],
   "source": [
    "save_GIF(curl_hist[::15], interval=45, cmap_ = 'RdYlGn', output_file='animation_3.gif')"
   ]
  },
  {
   "cell_type": "code",
   "execution_count": null,
   "metadata": {},
   "outputs": [],
   "source": []
  }
 ],
 "metadata": {
  "kernelspec": {
   "display_name": "Python 3",
   "language": "python",
   "name": "python3"
  },
  "language_info": {
   "codemirror_mode": {
    "name": "ipython",
    "version": 3
   },
   "file_extension": ".py",
   "mimetype": "text/x-python",
   "name": "python",
   "nbconvert_exporter": "python",
   "pygments_lexer": "ipython3",
   "version": "3.11.9"
  }
 },
 "nbformat": 4,
 "nbformat_minor": 2
}
