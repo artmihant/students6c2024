{
 "cells": [
  {
   "cell_type": "code",
   "execution_count": 1,
   "metadata": {},
   "outputs": [],
   "source": [
    "import numpy as np\n",
    "import matplotlib.pyplot as plt\n",
    "import matplotlib"
   ]
  },
  {
   "cell_type": "code",
   "execution_count": 2,
   "metadata": {},
   "outputs": [],
   "source": [
    "\n",
    "def F(z):\n",
    "    return z**3 - 1\n",
    "\n",
    "def DF(z):\n",
    "    return 3*z**2\n"
   ]
  },
  {
   "cell_type": "code",
   "execution_count": 3,
   "metadata": {},
   "outputs": [],
   "source": [
    "\n",
    "\n",
    "X_min, X_max = -2,2\n",
    "X_step =6\n",
    "\n",
    "Y_min, Y_max = -2,2\n",
    "Y_step = 6\n",
    "\n",
    "XSpace = np.linspace(X_min, X_max, X_step).reshape((1,-1))\n",
    "YSpace = np.linspace(Y_max, Y_min, Y_step).reshape((-1,1))\n"
   ]
  },
  {
   "cell_type": "code",
   "execution_count": 4,
   "metadata": {},
   "outputs": [
    {
     "data": {
      "text/plain": [
       "array([[-2. +2.j , -1.2+2.j , -0.4+2.j ,  0.4+2.j ,  1.2+2.j ,  2. +2.j ],\n",
       "       [-2. +1.2j, -1.2+1.2j, -0.4+1.2j,  0.4+1.2j,  1.2+1.2j,  2. +1.2j],\n",
       "       [-2. +0.4j, -1.2+0.4j, -0.4+0.4j,  0.4+0.4j,  1.2+0.4j,  2. +0.4j],\n",
       "       [-2. -0.4j, -1.2-0.4j, -0.4-0.4j,  0.4-0.4j,  1.2-0.4j,  2. -0.4j],\n",
       "       [-2. -1.2j, -1.2-1.2j, -0.4-1.2j,  0.4-1.2j,  1.2-1.2j,  2. -1.2j],\n",
       "       [-2. -2.j , -1.2-2.j , -0.4-2.j ,  0.4-2.j ,  1.2-2.j ,  2. -2.j ]])"
      ]
     },
     "execution_count": 4,
     "metadata": {},
     "output_type": "execute_result"
    }
   ],
   "source": [
    "ZSpace = XSpace + 1j*YSpace\n",
    "\n",
    "ZSpace"
   ]
  },
  {
   "cell_type": "code",
   "execution_count": 2,
   "metadata": {},
   "outputs": [
    {
     "data": {
      "text/plain": [
       "['asinh', 'function', 'functionlog', 'linear', 'log', 'logit', 'symlog']"
      ]
     },
     "execution_count": 2,
     "metadata": {},
     "output_type": "execute_result"
    }
   ],
   "source": [
    "matplotlib.scale.get_scale_names()"
   ]
  }
 ],
 "metadata": {
  "kernelspec": {
   "display_name": "Python 3",
   "language": "python",
   "name": "python3"
  },
  "language_info": {
   "codemirror_mode": {
    "name": "ipython",
    "version": 3
   },
   "file_extension": ".py",
   "mimetype": "text/x-python",
   "name": "python",
   "nbconvert_exporter": "python",
   "pygments_lexer": "ipython3",
   "version": "3.10.12"
  }
 },
 "nbformat": 4,
 "nbformat_minor": 2
}
